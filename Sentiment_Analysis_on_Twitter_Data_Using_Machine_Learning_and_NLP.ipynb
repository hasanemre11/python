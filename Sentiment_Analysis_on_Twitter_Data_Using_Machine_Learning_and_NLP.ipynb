{
  "nbformat": 4,
  "nbformat_minor": 0,
  "metadata": {
    "colab": {
      "provenance": [],
      "authorship_tag": "ABX9TyP4uKvV786lZp/JfnrUIzxC",
      "include_colab_link": true
    },
    "kernelspec": {
      "name": "python3",
      "display_name": "Python 3"
    },
    "language_info": {
      "name": "python"
    }
  },
  "cells": [
    {
      "cell_type": "markdown",
      "metadata": {
        "id": "view-in-github",
        "colab_type": "text"
      },
      "source": [
        "<a href=\"https://colab.research.google.com/github/hasanemre11/python/blob/main/Sentiment_Analysis_on_Twitter_Data_Using_Machine_Learning_and_NLP.ipynb\" target=\"_parent\"><img src=\"https://colab.research.google.com/assets/colab-badge.svg\" alt=\"Open In Colab\"/></a>"
      ]
    },
    {
      "cell_type": "markdown",
      "source": [
        "#Sentiment Analysis of Tweets Using NLP Techniques"
      ],
      "metadata": {
        "id": "Uscnb2gwqPeq"
      }
    },
    {
      "cell_type": "markdown",
      "source": [
        "##Introduction\n",
        "In this project, we aim to perform sentiment analysis on a large dataset of tweets using various Natural Language Processing (NLP) techniques. The 'Sentiment140' dataset is utilized for training and evaluating machine learning models to classify tweets as positive or negative. The analysis involves text preprocessing, feature extraction methods like Bag-of-Words (BoW) and Term Frequency-Inverse Document Frequency (TF-IDF), and model training with algorithms such as Logistic Regression, Random Forest, Gradient Boosting, and Support Vector Machines (SVM)."
      ],
      "metadata": {
        "id": "qDXSPtRBs_2u"
      }
    },
    {
      "cell_type": "markdown",
      "source": [
        "##Data Exploration and Preprocessing"
      ],
      "metadata": {
        "id": "Uubf579HuH2c"
      }
    },
    {
      "cell_type": "markdown",
      "source": [
        "####1. Downloading the Dataset"
      ],
      "metadata": {
        "id": "Ma6tN2y4uOao"
      }
    },
    {
      "cell_type": "code",
      "execution_count": 1,
      "metadata": {
        "id": "-Gdx3zbdXry_",
        "colab": {
          "base_uri": "https://localhost:8080/"
        },
        "outputId": "9f3bec1d-2af5-46e3-cc1b-cbe23690bad7"
      },
      "outputs": [
        {
          "output_type": "stream",
          "name": "stdout",
          "text": [
            "Dataset URL: https://www.kaggle.com/datasets/kazanova/sentiment140\n",
            "License(s): other\n",
            "Downloading sentiment140.zip to /content\n",
            " 88% 71.0M/80.9M [00:00<00:00, 242MB/s]\n",
            "100% 80.9M/80.9M [00:00<00:00, 244MB/s]\n",
            "Archive:  /content/sentiment140.zip\n",
            "  inflating: /content/training.1600000.processed.noemoticon.csv  \n"
          ]
        }
      ],
      "source": [
        "from google.colab import userdata\n",
        "import os\n",
        "import pandas as pd\n",
        "import numpy as np\n",
        "\n",
        "os.environ[\"KAGGLE_USERNAME\"] = userdata.get('KAGGLE_USERNAME')\n",
        "os.environ[\"KAGGLE_KEY\"] = userdata.get('KAGGLE_KEY')\n",
        "\n",
        "!kaggle datasets download -d kazanova/sentiment140 -p /content\n",
        "\n",
        "# Unzip the downloaded file\n",
        "!unzip /content/sentiment140.zip -d /content/\n",
        "\n",
        "# Read the CSV file into a DataFrame\n",
        "df = pd.read_csv('/content/training.1600000.processed.noemoticon.csv', encoding='ISO-8859-1', header=None)\n",
        "\n",
        "# Sampling a subset of the data for faster processing\n",
        "df = df.sample(n=250000, random_state=42)\n",
        "\n",
        "# Display the first few rows of the DataFrame\n",
        "df.head()\n",
        "\n",
        "# Checking DataFrame information\n",
        "df.info()\n"
      ]
    },
    {
      "cell_type": "markdown",
      "source": [
        "#### 2. Dropping Unnecessary Columns"
      ],
      "metadata": {
        "id": "PiT0UMYA9fxU"
      }
    },
    {
      "cell_type": "markdown",
      "source": [
        "\n",
        "\n",
        "*   Renaming column names: We rename the columns to provide meaningful labels.\n",
        "\n"
      ],
      "metadata": {
        "id": "O8U2fDRp-9gP"
      }
    },
    {
      "cell_type": "code",
      "source": [
        "# Renaming columns\n",
        "df.columns = ['Target', 'ID', 'Date', 'Query', 'Username', 'Text']\n",
        "df.head()\n"
      ],
      "metadata": {
        "id": "zvAGEJPS-AcZ",
        "colab": {
          "base_uri": "https://localhost:8080/",
          "height": 206
        },
        "outputId": "727ebf1f-eb9a-404d-9421-b50431edeb88"
      },
      "execution_count": 4,
      "outputs": [
        {
          "output_type": "execute_result",
          "data": {
            "text/plain": [
              "        Target          ID                          Date     Query  \\\n",
              "541200       0  2200003196  Tue Jun 16 18:18:12 PDT 2009  NO_QUERY   \n",
              "750          0  1467998485  Mon Apr 06 23:11:14 PDT 2009  NO_QUERY   \n",
              "766711       0  2300048954  Tue Jun 23 13:40:11 PDT 2009  NO_QUERY   \n",
              "285055       0  1993474027  Mon Jun 01 10:26:07 PDT 2009  NO_QUERY   \n",
              "705995       0  2256550904  Sat Jun 20 12:56:51 PDT 2009  NO_QUERY   \n",
              "\n",
              "               Username                                               Text  \n",
              "541200  LaLaLindsey0609             @chrishasboobs AHHH I HOPE YOUR OK!!!   \n",
              "750         sexygrneyes  @misstoriblack cool , i have no tweet apps  fo...  \n",
              "766711       sammydearr  @TiannaChaos i know  just family drama. its la...  \n",
              "285055      Lamb_Leanne  School email won't open  and I have geography ...  \n",
              "705995      yogicerdito                             upper airways problem   "
            ],
            "text/html": [
              "\n",
              "  <div id=\"df-d90b4200-bb60-4cc4-9aa7-a081b5a74816\" class=\"colab-df-container\">\n",
              "    <div>\n",
              "<style scoped>\n",
              "    .dataframe tbody tr th:only-of-type {\n",
              "        vertical-align: middle;\n",
              "    }\n",
              "\n",
              "    .dataframe tbody tr th {\n",
              "        vertical-align: top;\n",
              "    }\n",
              "\n",
              "    .dataframe thead th {\n",
              "        text-align: right;\n",
              "    }\n",
              "</style>\n",
              "<table border=\"1\" class=\"dataframe\">\n",
              "  <thead>\n",
              "    <tr style=\"text-align: right;\">\n",
              "      <th></th>\n",
              "      <th>Target</th>\n",
              "      <th>ID</th>\n",
              "      <th>Date</th>\n",
              "      <th>Query</th>\n",
              "      <th>Username</th>\n",
              "      <th>Text</th>\n",
              "    </tr>\n",
              "  </thead>\n",
              "  <tbody>\n",
              "    <tr>\n",
              "      <th>541200</th>\n",
              "      <td>0</td>\n",
              "      <td>2200003196</td>\n",
              "      <td>Tue Jun 16 18:18:12 PDT 2009</td>\n",
              "      <td>NO_QUERY</td>\n",
              "      <td>LaLaLindsey0609</td>\n",
              "      <td>@chrishasboobs AHHH I HOPE YOUR OK!!!</td>\n",
              "    </tr>\n",
              "    <tr>\n",
              "      <th>750</th>\n",
              "      <td>0</td>\n",
              "      <td>1467998485</td>\n",
              "      <td>Mon Apr 06 23:11:14 PDT 2009</td>\n",
              "      <td>NO_QUERY</td>\n",
              "      <td>sexygrneyes</td>\n",
              "      <td>@misstoriblack cool , i have no tweet apps  fo...</td>\n",
              "    </tr>\n",
              "    <tr>\n",
              "      <th>766711</th>\n",
              "      <td>0</td>\n",
              "      <td>2300048954</td>\n",
              "      <td>Tue Jun 23 13:40:11 PDT 2009</td>\n",
              "      <td>NO_QUERY</td>\n",
              "      <td>sammydearr</td>\n",
              "      <td>@TiannaChaos i know  just family drama. its la...</td>\n",
              "    </tr>\n",
              "    <tr>\n",
              "      <th>285055</th>\n",
              "      <td>0</td>\n",
              "      <td>1993474027</td>\n",
              "      <td>Mon Jun 01 10:26:07 PDT 2009</td>\n",
              "      <td>NO_QUERY</td>\n",
              "      <td>Lamb_Leanne</td>\n",
              "      <td>School email won't open  and I have geography ...</td>\n",
              "    </tr>\n",
              "    <tr>\n",
              "      <th>705995</th>\n",
              "      <td>0</td>\n",
              "      <td>2256550904</td>\n",
              "      <td>Sat Jun 20 12:56:51 PDT 2009</td>\n",
              "      <td>NO_QUERY</td>\n",
              "      <td>yogicerdito</td>\n",
              "      <td>upper airways problem</td>\n",
              "    </tr>\n",
              "  </tbody>\n",
              "</table>\n",
              "</div>\n",
              "    <div class=\"colab-df-buttons\">\n",
              "\n",
              "  <div class=\"colab-df-container\">\n",
              "    <button class=\"colab-df-convert\" onclick=\"convertToInteractive('df-d90b4200-bb60-4cc4-9aa7-a081b5a74816')\"\n",
              "            title=\"Convert this dataframe to an interactive table.\"\n",
              "            style=\"display:none;\">\n",
              "\n",
              "  <svg xmlns=\"http://www.w3.org/2000/svg\" height=\"24px\" viewBox=\"0 -960 960 960\">\n",
              "    <path d=\"M120-120v-720h720v720H120Zm60-500h600v-160H180v160Zm220 220h160v-160H400v160Zm0 220h160v-160H400v160ZM180-400h160v-160H180v160Zm440 0h160v-160H620v160ZM180-180h160v-160H180v160Zm440 0h160v-160H620v160Z\"/>\n",
              "  </svg>\n",
              "    </button>\n",
              "\n",
              "  <style>\n",
              "    .colab-df-container {\n",
              "      display:flex;\n",
              "      gap: 12px;\n",
              "    }\n",
              "\n",
              "    .colab-df-convert {\n",
              "      background-color: #E8F0FE;\n",
              "      border: none;\n",
              "      border-radius: 50%;\n",
              "      cursor: pointer;\n",
              "      display: none;\n",
              "      fill: #1967D2;\n",
              "      height: 32px;\n",
              "      padding: 0 0 0 0;\n",
              "      width: 32px;\n",
              "    }\n",
              "\n",
              "    .colab-df-convert:hover {\n",
              "      background-color: #E2EBFA;\n",
              "      box-shadow: 0px 1px 2px rgba(60, 64, 67, 0.3), 0px 1px 3px 1px rgba(60, 64, 67, 0.15);\n",
              "      fill: #174EA6;\n",
              "    }\n",
              "\n",
              "    .colab-df-buttons div {\n",
              "      margin-bottom: 4px;\n",
              "    }\n",
              "\n",
              "    [theme=dark] .colab-df-convert {\n",
              "      background-color: #3B4455;\n",
              "      fill: #D2E3FC;\n",
              "    }\n",
              "\n",
              "    [theme=dark] .colab-df-convert:hover {\n",
              "      background-color: #434B5C;\n",
              "      box-shadow: 0px 1px 3px 1px rgba(0, 0, 0, 0.15);\n",
              "      filter: drop-shadow(0px 1px 2px rgba(0, 0, 0, 0.3));\n",
              "      fill: #FFFFFF;\n",
              "    }\n",
              "  </style>\n",
              "\n",
              "    <script>\n",
              "      const buttonEl =\n",
              "        document.querySelector('#df-d90b4200-bb60-4cc4-9aa7-a081b5a74816 button.colab-df-convert');\n",
              "      buttonEl.style.display =\n",
              "        google.colab.kernel.accessAllowed ? 'block' : 'none';\n",
              "\n",
              "      async function convertToInteractive(key) {\n",
              "        const element = document.querySelector('#df-d90b4200-bb60-4cc4-9aa7-a081b5a74816');\n",
              "        const dataTable =\n",
              "          await google.colab.kernel.invokeFunction('convertToInteractive',\n",
              "                                                    [key], {});\n",
              "        if (!dataTable) return;\n",
              "\n",
              "        const docLinkHtml = 'Like what you see? Visit the ' +\n",
              "          '<a target=\"_blank\" href=https://colab.research.google.com/notebooks/data_table.ipynb>data table notebook</a>'\n",
              "          + ' to learn more about interactive tables.';\n",
              "        element.innerHTML = '';\n",
              "        dataTable['output_type'] = 'display_data';\n",
              "        await google.colab.output.renderOutput(dataTable, element);\n",
              "        const docLink = document.createElement('div');\n",
              "        docLink.innerHTML = docLinkHtml;\n",
              "        element.appendChild(docLink);\n",
              "      }\n",
              "    </script>\n",
              "  </div>\n",
              "\n",
              "\n",
              "<div id=\"df-be146739-9e48-470e-b5af-e0cb9183c42d\">\n",
              "  <button class=\"colab-df-quickchart\" onclick=\"quickchart('df-be146739-9e48-470e-b5af-e0cb9183c42d')\"\n",
              "            title=\"Suggest charts\"\n",
              "            style=\"display:none;\">\n",
              "\n",
              "<svg xmlns=\"http://www.w3.org/2000/svg\" height=\"24px\"viewBox=\"0 0 24 24\"\n",
              "     width=\"24px\">\n",
              "    <g>\n",
              "        <path d=\"M19 3H5c-1.1 0-2 .9-2 2v14c0 1.1.9 2 2 2h14c1.1 0 2-.9 2-2V5c0-1.1-.9-2-2-2zM9 17H7v-7h2v7zm4 0h-2V7h2v10zm4 0h-2v-4h2v4z\"/>\n",
              "    </g>\n",
              "</svg>\n",
              "  </button>\n",
              "\n",
              "<style>\n",
              "  .colab-df-quickchart {\n",
              "      --bg-color: #E8F0FE;\n",
              "      --fill-color: #1967D2;\n",
              "      --hover-bg-color: #E2EBFA;\n",
              "      --hover-fill-color: #174EA6;\n",
              "      --disabled-fill-color: #AAA;\n",
              "      --disabled-bg-color: #DDD;\n",
              "  }\n",
              "\n",
              "  [theme=dark] .colab-df-quickchart {\n",
              "      --bg-color: #3B4455;\n",
              "      --fill-color: #D2E3FC;\n",
              "      --hover-bg-color: #434B5C;\n",
              "      --hover-fill-color: #FFFFFF;\n",
              "      --disabled-bg-color: #3B4455;\n",
              "      --disabled-fill-color: #666;\n",
              "  }\n",
              "\n",
              "  .colab-df-quickchart {\n",
              "    background-color: var(--bg-color);\n",
              "    border: none;\n",
              "    border-radius: 50%;\n",
              "    cursor: pointer;\n",
              "    display: none;\n",
              "    fill: var(--fill-color);\n",
              "    height: 32px;\n",
              "    padding: 0;\n",
              "    width: 32px;\n",
              "  }\n",
              "\n",
              "  .colab-df-quickchart:hover {\n",
              "    background-color: var(--hover-bg-color);\n",
              "    box-shadow: 0 1px 2px rgba(60, 64, 67, 0.3), 0 1px 3px 1px rgba(60, 64, 67, 0.15);\n",
              "    fill: var(--button-hover-fill-color);\n",
              "  }\n",
              "\n",
              "  .colab-df-quickchart-complete:disabled,\n",
              "  .colab-df-quickchart-complete:disabled:hover {\n",
              "    background-color: var(--disabled-bg-color);\n",
              "    fill: var(--disabled-fill-color);\n",
              "    box-shadow: none;\n",
              "  }\n",
              "\n",
              "  .colab-df-spinner {\n",
              "    border: 2px solid var(--fill-color);\n",
              "    border-color: transparent;\n",
              "    border-bottom-color: var(--fill-color);\n",
              "    animation:\n",
              "      spin 1s steps(1) infinite;\n",
              "  }\n",
              "\n",
              "  @keyframes spin {\n",
              "    0% {\n",
              "      border-color: transparent;\n",
              "      border-bottom-color: var(--fill-color);\n",
              "      border-left-color: var(--fill-color);\n",
              "    }\n",
              "    20% {\n",
              "      border-color: transparent;\n",
              "      border-left-color: var(--fill-color);\n",
              "      border-top-color: var(--fill-color);\n",
              "    }\n",
              "    30% {\n",
              "      border-color: transparent;\n",
              "      border-left-color: var(--fill-color);\n",
              "      border-top-color: var(--fill-color);\n",
              "      border-right-color: var(--fill-color);\n",
              "    }\n",
              "    40% {\n",
              "      border-color: transparent;\n",
              "      border-right-color: var(--fill-color);\n",
              "      border-top-color: var(--fill-color);\n",
              "    }\n",
              "    60% {\n",
              "      border-color: transparent;\n",
              "      border-right-color: var(--fill-color);\n",
              "    }\n",
              "    80% {\n",
              "      border-color: transparent;\n",
              "      border-right-color: var(--fill-color);\n",
              "      border-bottom-color: var(--fill-color);\n",
              "    }\n",
              "    90% {\n",
              "      border-color: transparent;\n",
              "      border-bottom-color: var(--fill-color);\n",
              "    }\n",
              "  }\n",
              "</style>\n",
              "\n",
              "  <script>\n",
              "    async function quickchart(key) {\n",
              "      const quickchartButtonEl =\n",
              "        document.querySelector('#' + key + ' button');\n",
              "      quickchartButtonEl.disabled = true;  // To prevent multiple clicks.\n",
              "      quickchartButtonEl.classList.add('colab-df-spinner');\n",
              "      try {\n",
              "        const charts = await google.colab.kernel.invokeFunction(\n",
              "            'suggestCharts', [key], {});\n",
              "      } catch (error) {\n",
              "        console.error('Error during call to suggestCharts:', error);\n",
              "      }\n",
              "      quickchartButtonEl.classList.remove('colab-df-spinner');\n",
              "      quickchartButtonEl.classList.add('colab-df-quickchart-complete');\n",
              "    }\n",
              "    (() => {\n",
              "      let quickchartButtonEl =\n",
              "        document.querySelector('#df-be146739-9e48-470e-b5af-e0cb9183c42d button');\n",
              "      quickchartButtonEl.style.display =\n",
              "        google.colab.kernel.accessAllowed ? 'block' : 'none';\n",
              "    })();\n",
              "  </script>\n",
              "</div>\n",
              "\n",
              "    </div>\n",
              "  </div>\n"
            ],
            "application/vnd.google.colaboratory.intrinsic+json": {
              "type": "dataframe",
              "variable_name": "df"
            }
          },
          "metadata": {},
          "execution_count": 4
        }
      ]
    },
    {
      "cell_type": "markdown",
      "source": [
        "\n",
        "\n",
        "*   Dropping unnecessary columns: We drop the columns that are not relevant to the sentiment analysis task.\n"
      ],
      "metadata": {
        "id": "rGrIrSVo_OHd"
      }
    },
    {
      "cell_type": "code",
      "source": [
        "df.drop(['ID', 'Date', 'Query', 'Username'], axis=1, inplace=True)\n",
        "df.head()"
      ],
      "metadata": {
        "id": "HmGHDl-X_Uhm",
        "colab": {
          "base_uri": "https://localhost:8080/",
          "height": 206
        },
        "outputId": "0b0a5f21-d103-4685-aa8e-0a50d49947a6"
      },
      "execution_count": 5,
      "outputs": [
        {
          "output_type": "execute_result",
          "data": {
            "text/plain": [
              "        Target                                               Text\n",
              "541200       0             @chrishasboobs AHHH I HOPE YOUR OK!!! \n",
              "750          0  @misstoriblack cool , i have no tweet apps  fo...\n",
              "766711       0  @TiannaChaos i know  just family drama. its la...\n",
              "285055       0  School email won't open  and I have geography ...\n",
              "705995       0                             upper airways problem "
            ],
            "text/html": [
              "\n",
              "  <div id=\"df-8a4fe404-a3ab-4d85-8096-a7622198336f\" class=\"colab-df-container\">\n",
              "    <div>\n",
              "<style scoped>\n",
              "    .dataframe tbody tr th:only-of-type {\n",
              "        vertical-align: middle;\n",
              "    }\n",
              "\n",
              "    .dataframe tbody tr th {\n",
              "        vertical-align: top;\n",
              "    }\n",
              "\n",
              "    .dataframe thead th {\n",
              "        text-align: right;\n",
              "    }\n",
              "</style>\n",
              "<table border=\"1\" class=\"dataframe\">\n",
              "  <thead>\n",
              "    <tr style=\"text-align: right;\">\n",
              "      <th></th>\n",
              "      <th>Target</th>\n",
              "      <th>Text</th>\n",
              "    </tr>\n",
              "  </thead>\n",
              "  <tbody>\n",
              "    <tr>\n",
              "      <th>541200</th>\n",
              "      <td>0</td>\n",
              "      <td>@chrishasboobs AHHH I HOPE YOUR OK!!!</td>\n",
              "    </tr>\n",
              "    <tr>\n",
              "      <th>750</th>\n",
              "      <td>0</td>\n",
              "      <td>@misstoriblack cool , i have no tweet apps  fo...</td>\n",
              "    </tr>\n",
              "    <tr>\n",
              "      <th>766711</th>\n",
              "      <td>0</td>\n",
              "      <td>@TiannaChaos i know  just family drama. its la...</td>\n",
              "    </tr>\n",
              "    <tr>\n",
              "      <th>285055</th>\n",
              "      <td>0</td>\n",
              "      <td>School email won't open  and I have geography ...</td>\n",
              "    </tr>\n",
              "    <tr>\n",
              "      <th>705995</th>\n",
              "      <td>0</td>\n",
              "      <td>upper airways problem</td>\n",
              "    </tr>\n",
              "  </tbody>\n",
              "</table>\n",
              "</div>\n",
              "    <div class=\"colab-df-buttons\">\n",
              "\n",
              "  <div class=\"colab-df-container\">\n",
              "    <button class=\"colab-df-convert\" onclick=\"convertToInteractive('df-8a4fe404-a3ab-4d85-8096-a7622198336f')\"\n",
              "            title=\"Convert this dataframe to an interactive table.\"\n",
              "            style=\"display:none;\">\n",
              "\n",
              "  <svg xmlns=\"http://www.w3.org/2000/svg\" height=\"24px\" viewBox=\"0 -960 960 960\">\n",
              "    <path d=\"M120-120v-720h720v720H120Zm60-500h600v-160H180v160Zm220 220h160v-160H400v160Zm0 220h160v-160H400v160ZM180-400h160v-160H180v160Zm440 0h160v-160H620v160ZM180-180h160v-160H180v160Zm440 0h160v-160H620v160Z\"/>\n",
              "  </svg>\n",
              "    </button>\n",
              "\n",
              "  <style>\n",
              "    .colab-df-container {\n",
              "      display:flex;\n",
              "      gap: 12px;\n",
              "    }\n",
              "\n",
              "    .colab-df-convert {\n",
              "      background-color: #E8F0FE;\n",
              "      border: none;\n",
              "      border-radius: 50%;\n",
              "      cursor: pointer;\n",
              "      display: none;\n",
              "      fill: #1967D2;\n",
              "      height: 32px;\n",
              "      padding: 0 0 0 0;\n",
              "      width: 32px;\n",
              "    }\n",
              "\n",
              "    .colab-df-convert:hover {\n",
              "      background-color: #E2EBFA;\n",
              "      box-shadow: 0px 1px 2px rgba(60, 64, 67, 0.3), 0px 1px 3px 1px rgba(60, 64, 67, 0.15);\n",
              "      fill: #174EA6;\n",
              "    }\n",
              "\n",
              "    .colab-df-buttons div {\n",
              "      margin-bottom: 4px;\n",
              "    }\n",
              "\n",
              "    [theme=dark] .colab-df-convert {\n",
              "      background-color: #3B4455;\n",
              "      fill: #D2E3FC;\n",
              "    }\n",
              "\n",
              "    [theme=dark] .colab-df-convert:hover {\n",
              "      background-color: #434B5C;\n",
              "      box-shadow: 0px 1px 3px 1px rgba(0, 0, 0, 0.15);\n",
              "      filter: drop-shadow(0px 1px 2px rgba(0, 0, 0, 0.3));\n",
              "      fill: #FFFFFF;\n",
              "    }\n",
              "  </style>\n",
              "\n",
              "    <script>\n",
              "      const buttonEl =\n",
              "        document.querySelector('#df-8a4fe404-a3ab-4d85-8096-a7622198336f button.colab-df-convert');\n",
              "      buttonEl.style.display =\n",
              "        google.colab.kernel.accessAllowed ? 'block' : 'none';\n",
              "\n",
              "      async function convertToInteractive(key) {\n",
              "        const element = document.querySelector('#df-8a4fe404-a3ab-4d85-8096-a7622198336f');\n",
              "        const dataTable =\n",
              "          await google.colab.kernel.invokeFunction('convertToInteractive',\n",
              "                                                    [key], {});\n",
              "        if (!dataTable) return;\n",
              "\n",
              "        const docLinkHtml = 'Like what you see? Visit the ' +\n",
              "          '<a target=\"_blank\" href=https://colab.research.google.com/notebooks/data_table.ipynb>data table notebook</a>'\n",
              "          + ' to learn more about interactive tables.';\n",
              "        element.innerHTML = '';\n",
              "        dataTable['output_type'] = 'display_data';\n",
              "        await google.colab.output.renderOutput(dataTable, element);\n",
              "        const docLink = document.createElement('div');\n",
              "        docLink.innerHTML = docLinkHtml;\n",
              "        element.appendChild(docLink);\n",
              "      }\n",
              "    </script>\n",
              "  </div>\n",
              "\n",
              "\n",
              "<div id=\"df-bff1d8c4-0886-445d-8a1d-fe831de870d2\">\n",
              "  <button class=\"colab-df-quickchart\" onclick=\"quickchart('df-bff1d8c4-0886-445d-8a1d-fe831de870d2')\"\n",
              "            title=\"Suggest charts\"\n",
              "            style=\"display:none;\">\n",
              "\n",
              "<svg xmlns=\"http://www.w3.org/2000/svg\" height=\"24px\"viewBox=\"0 0 24 24\"\n",
              "     width=\"24px\">\n",
              "    <g>\n",
              "        <path d=\"M19 3H5c-1.1 0-2 .9-2 2v14c0 1.1.9 2 2 2h14c1.1 0 2-.9 2-2V5c0-1.1-.9-2-2-2zM9 17H7v-7h2v7zm4 0h-2V7h2v10zm4 0h-2v-4h2v4z\"/>\n",
              "    </g>\n",
              "</svg>\n",
              "  </button>\n",
              "\n",
              "<style>\n",
              "  .colab-df-quickchart {\n",
              "      --bg-color: #E8F0FE;\n",
              "      --fill-color: #1967D2;\n",
              "      --hover-bg-color: #E2EBFA;\n",
              "      --hover-fill-color: #174EA6;\n",
              "      --disabled-fill-color: #AAA;\n",
              "      --disabled-bg-color: #DDD;\n",
              "  }\n",
              "\n",
              "  [theme=dark] .colab-df-quickchart {\n",
              "      --bg-color: #3B4455;\n",
              "      --fill-color: #D2E3FC;\n",
              "      --hover-bg-color: #434B5C;\n",
              "      --hover-fill-color: #FFFFFF;\n",
              "      --disabled-bg-color: #3B4455;\n",
              "      --disabled-fill-color: #666;\n",
              "  }\n",
              "\n",
              "  .colab-df-quickchart {\n",
              "    background-color: var(--bg-color);\n",
              "    border: none;\n",
              "    border-radius: 50%;\n",
              "    cursor: pointer;\n",
              "    display: none;\n",
              "    fill: var(--fill-color);\n",
              "    height: 32px;\n",
              "    padding: 0;\n",
              "    width: 32px;\n",
              "  }\n",
              "\n",
              "  .colab-df-quickchart:hover {\n",
              "    background-color: var(--hover-bg-color);\n",
              "    box-shadow: 0 1px 2px rgba(60, 64, 67, 0.3), 0 1px 3px 1px rgba(60, 64, 67, 0.15);\n",
              "    fill: var(--button-hover-fill-color);\n",
              "  }\n",
              "\n",
              "  .colab-df-quickchart-complete:disabled,\n",
              "  .colab-df-quickchart-complete:disabled:hover {\n",
              "    background-color: var(--disabled-bg-color);\n",
              "    fill: var(--disabled-fill-color);\n",
              "    box-shadow: none;\n",
              "  }\n",
              "\n",
              "  .colab-df-spinner {\n",
              "    border: 2px solid var(--fill-color);\n",
              "    border-color: transparent;\n",
              "    border-bottom-color: var(--fill-color);\n",
              "    animation:\n",
              "      spin 1s steps(1) infinite;\n",
              "  }\n",
              "\n",
              "  @keyframes spin {\n",
              "    0% {\n",
              "      border-color: transparent;\n",
              "      border-bottom-color: var(--fill-color);\n",
              "      border-left-color: var(--fill-color);\n",
              "    }\n",
              "    20% {\n",
              "      border-color: transparent;\n",
              "      border-left-color: var(--fill-color);\n",
              "      border-top-color: var(--fill-color);\n",
              "    }\n",
              "    30% {\n",
              "      border-color: transparent;\n",
              "      border-left-color: var(--fill-color);\n",
              "      border-top-color: var(--fill-color);\n",
              "      border-right-color: var(--fill-color);\n",
              "    }\n",
              "    40% {\n",
              "      border-color: transparent;\n",
              "      border-right-color: var(--fill-color);\n",
              "      border-top-color: var(--fill-color);\n",
              "    }\n",
              "    60% {\n",
              "      border-color: transparent;\n",
              "      border-right-color: var(--fill-color);\n",
              "    }\n",
              "    80% {\n",
              "      border-color: transparent;\n",
              "      border-right-color: var(--fill-color);\n",
              "      border-bottom-color: var(--fill-color);\n",
              "    }\n",
              "    90% {\n",
              "      border-color: transparent;\n",
              "      border-bottom-color: var(--fill-color);\n",
              "    }\n",
              "  }\n",
              "</style>\n",
              "\n",
              "  <script>\n",
              "    async function quickchart(key) {\n",
              "      const quickchartButtonEl =\n",
              "        document.querySelector('#' + key + ' button');\n",
              "      quickchartButtonEl.disabled = true;  // To prevent multiple clicks.\n",
              "      quickchartButtonEl.classList.add('colab-df-spinner');\n",
              "      try {\n",
              "        const charts = await google.colab.kernel.invokeFunction(\n",
              "            'suggestCharts', [key], {});\n",
              "      } catch (error) {\n",
              "        console.error('Error during call to suggestCharts:', error);\n",
              "      }\n",
              "      quickchartButtonEl.classList.remove('colab-df-spinner');\n",
              "      quickchartButtonEl.classList.add('colab-df-quickchart-complete');\n",
              "    }\n",
              "    (() => {\n",
              "      let quickchartButtonEl =\n",
              "        document.querySelector('#df-bff1d8c4-0886-445d-8a1d-fe831de870d2 button');\n",
              "      quickchartButtonEl.style.display =\n",
              "        google.colab.kernel.accessAllowed ? 'block' : 'none';\n",
              "    })();\n",
              "  </script>\n",
              "</div>\n",
              "\n",
              "    </div>\n",
              "  </div>\n"
            ],
            "application/vnd.google.colaboratory.intrinsic+json": {
              "type": "dataframe",
              "variable_name": "df"
            }
          },
          "metadata": {},
          "execution_count": 5
        }
      ]
    },
    {
      "cell_type": "markdown",
      "source": [
        "####3. Data Cleaning, Tokenization, and Lemmatization"
      ],
      "metadata": {
        "id": "SuDGAMyG-ikW"
      }
    },
    {
      "cell_type": "code",
      "source": [
        "import re\n",
        "import nltk\n",
        "from nltk.corpus import stopwords\n",
        "from nltk.tokenize import word_tokenize, TweetTokenizer\n",
        "from nltk.stem import WordNetLemmatizer\n",
        "\n",
        "# Download NLTK resources\n",
        "nltk.download('stopwords')\n",
        "nltk.download('punkt')\n",
        "nltk.download('wordnet')\n",
        "nltk.download('omw-1.4')\n",
        "\n",
        "# Function to clean text with advanced preprocessing\n",
        "def clean_text_advanced(text_series):\n",
        "    lemmatizer = WordNetLemmatizer()\n",
        "    stop_words = set(stopwords.words('english'))\n",
        "\n",
        "    def preprocess(text):\n",
        "        text = re.sub(r'@\\w+', '', text)  # Remove mentions\n",
        "        text = re.sub(r'http\\S+|www\\S+|https\\S+', '', text, flags=re.MULTILINE)  # Remove URLs\n",
        "        text = re.sub(r'[^\\w\\s]', '', text)  # Remove punctuation and special characters\n",
        "        text = text.lower()  # Convert text to lowercase\n",
        "\n",
        "        # Expand contractions\n",
        "        text = re.sub(r\"\\'re\", \" are\", text)\n",
        "        text = re.sub(r\"\\'ll\", \" will\", text)\n",
        "        text = re.sub(r\"\\'ve\", \" have\", text)\n",
        "        text = re.sub(r\"\\'d\", \" would\", text)\n",
        "        text = re.sub(r\"\\'s\", \" is\", text)\n",
        "        text = re.sub(r\"\\'m\", \" am\", text)\n",
        "        text = re.sub(r\"\\'t\", \" not\", text)\n",
        "        text = re.sub(r\"\\'\", \"\", text)\n",
        "\n",
        "        # Tokenization and lemmatization\n",
        "        tokenizer = TweetTokenizer()\n",
        "        tokens = tokenizer.tokenize(text)\n",
        "        tokens = [lemmatizer.lemmatize(token) for token in tokens if token not in stop_words]\n",
        "\n",
        "        return ' '.join(tokens)\n",
        "\n",
        "    cleaned_text = text_series.apply(preprocess)\n",
        "    return cleaned_text\n",
        "\n",
        "# Applying text cleaning\n",
        "df['Cleaned_Text'] = clean_text_advanced(df['Text'])\n",
        "df[['Text', 'Cleaned_Text']].head()\n"
      ],
      "metadata": {
        "id": "0P38MgXr-nG5",
        "colab": {
          "base_uri": "https://localhost:8080/"
        },
        "outputId": "8330a029-1a3e-4603-9e53-f693cc92f3f3"
      },
      "execution_count": 6,
      "outputs": [
        {
          "output_type": "stream",
          "name": "stderr",
          "text": [
            "[nltk_data] Downloading package stopwords to /root/nltk_data...\n",
            "[nltk_data]   Unzipping corpora/stopwords.zip.\n",
            "[nltk_data] Downloading package punkt to /root/nltk_data...\n",
            "[nltk_data]   Unzipping tokenizers/punkt.zip.\n",
            "[nltk_data] Downloading package wordnet to /root/nltk_data...\n",
            "[nltk_data] Downloading package omw-1.4 to /root/nltk_data...\n"
          ]
        },
        {
          "output_type": "stream",
          "name": "stdout",
          "text": [
            "                                                     Text  \\\n",
            "541200             @chrishasboobs AHHH I HOPE YOUR OK!!!    \n",
            "750     @misstoriblack cool , i have no tweet apps  fo...   \n",
            "766711  @TiannaChaos i know  just family drama. its la...   \n",
            "285055  School email won't open  and I have geography ...   \n",
            "705995                             upper airways problem    \n",
            "\n",
            "                                             Cleaned_Text  \n",
            "541200                                       ahhh hope ok  \n",
            "750                                cool tweet apps razr 2  \n",
            "766711  know family drama lamehey next time u hang kim...  \n",
            "285055  school email wont open geography stuff revise ...  \n",
            "705995                               upper airway problem  \n"
          ]
        }
      ]
    },
    {
      "cell_type": "markdown",
      "source": [
        "## Training Machine Learning Models Using the Bag-of-Words (BoW) Method"
      ],
      "metadata": {
        "id": "NSljCsaFDz4k"
      }
    },
    {
      "cell_type": "markdown",
      "source": [
        "####1. Applying the Bag-of-Words (BoW) Method\n",
        "\n"
      ],
      "metadata": {
        "id": "rmGT8vCxCfnB"
      }
    },
    {
      "cell_type": "code",
      "source": [
        "from sklearn.feature_extraction.text import CountVectorizer\n",
        "from sklearn.model_selection import train_test_split\n",
        "from sklearn.metrics import accuracy_score, classification_report\n",
        "\n",
        "# Initialize CountVectorizer\n",
        "vectorizer = CountVectorizer(stop_words='english')\n",
        "\n",
        "# Convert text data to Bag-of-Words\n",
        "X = vectorizer.fit_transform(df['Cleaned_Text'])\n",
        "y = df['Target']\n",
        "\n",
        "# Split data into training and testing sets\n",
        "X_train, X_test, y_train, y_test = train_test_split(X, y, test_size=0.3, random_state=42)\n"
      ],
      "metadata": {
        "id": "UOsp8nePCe9s"
      },
      "execution_count": 8,
      "outputs": []
    },
    {
      "cell_type": "markdown",
      "source": [
        "####2. Model Training and Evaluation"
      ],
      "metadata": {
        "id": "wmjdy2YLt6Wx"
      }
    },
    {
      "cell_type": "markdown",
      "source": [
        "\n",
        "\n",
        "*   Logistic Regression\n",
        "\n"
      ],
      "metadata": {
        "id": "0UYJGQEKEk_O"
      }
    },
    {
      "cell_type": "code",
      "source": [
        "from sklearn.linear_model import LogisticRegression\n",
        "\n",
        "model_lr = LogisticRegression(C=0.1, penalty='l2', solver='lbfgs', max_iter=1000)\n",
        "model_lr.fit(X_train, y_train)\n",
        "\n",
        "# Make predictions\n",
        "y_pred_lr = model_lr.predict(X_test)\n",
        "\n",
        "# Evaluate the model\n",
        "accuracy_lr = accuracy_score(y_test, y_pred_lr)\n",
        "report_lr = classification_report(y_test, y_pred_lr)\n",
        "\n",
        "print(f'Accuracy (Logistic Regression): {accuracy_lr}')\n",
        "print('Classification Report (Logistic Regression):')\n",
        "print(report_lr)\n"
      ],
      "metadata": {
        "colab": {
          "base_uri": "https://localhost:8080/"
        },
        "id": "GZvqwvVrC2HM",
        "outputId": "22a5adbb-4aa0-46b8-d78a-e424d22f3829"
      },
      "execution_count": 9,
      "outputs": [
        {
          "output_type": "stream",
          "name": "stdout",
          "text": [
            "Accuracy (Logistic Regression): 0.7612666666666666\n",
            "Classification Report (Logistic Regression):\n",
            "              precision    recall  f1-score   support\n",
            "\n",
            "           0       0.78      0.72      0.75     37483\n",
            "           4       0.74      0.80      0.77     37517\n",
            "\n",
            "    accuracy                           0.76     75000\n",
            "   macro avg       0.76      0.76      0.76     75000\n",
            "weighted avg       0.76      0.76      0.76     75000\n",
            "\n"
          ]
        }
      ]
    },
    {
      "cell_type": "markdown",
      "source": [
        "\n",
        "\n",
        "*   Random Forest Classifier\n",
        "\n"
      ],
      "metadata": {
        "id": "0CP3jZIYFrU1"
      }
    },
    {
      "cell_type": "code",
      "source": [
        "from sklearn.ensemble import RandomForestClassifier\n",
        "\n",
        "rf_model = RandomForestClassifier(n_estimators=100, random_state=42)\n",
        "rf_model.fit(X_train, y_train)\n",
        "\n",
        "# Model Evaluation\n",
        "y_pred_rf = rf_model.predict(X_test)\n",
        "accuracy_rf = accuracy_score(y_test, y_pred_rf)\n",
        "report_rf = classification_report(y_test, y_pred_rf)\n",
        "\n",
        "print(f'Accuracy (Random Forest): {accuracy_rf}')\n",
        "print('Classification Report (Random Forest):')\n",
        "print(report_rf)\n"
      ],
      "metadata": {
        "id": "8TojXPMeFrex",
        "colab": {
          "base_uri": "https://localhost:8080/"
        },
        "outputId": "9332834a-a002-41ae-b50a-b856a27edfef"
      },
      "execution_count": 10,
      "outputs": [
        {
          "output_type": "stream",
          "name": "stdout",
          "text": [
            "Accuracy (Random Forest): 0.7432933333333334\n",
            "Classification Report (Random Forest):\n",
            "              precision    recall  f1-score   support\n",
            "\n",
            "           0       0.73      0.76      0.75     37483\n",
            "           4       0.75      0.72      0.74     37517\n",
            "\n",
            "    accuracy                           0.74     75000\n",
            "   macro avg       0.74      0.74      0.74     75000\n",
            "weighted avg       0.74      0.74      0.74     75000\n",
            "\n"
          ]
        }
      ]
    },
    {
      "cell_type": "markdown",
      "source": [
        "\n",
        "\n",
        "*   Gradient Boosting Classifier\n",
        "\n"
      ],
      "metadata": {
        "id": "x-bVoWPQMtfw"
      }
    },
    {
      "cell_type": "code",
      "source": [
        "from sklearn.ensemble import GradientBoostingClassifier\n",
        "\n",
        "model_gb = GradientBoostingClassifier()\n",
        "model_gb.fit(X_train, y_train)\n",
        "\n",
        "# Make predictions\n",
        "y_pred_gb = model_gb.predict(X_test)\n",
        "\n",
        "# Evaluate the model\n",
        "accuracy_gb = accuracy_score(y_test, y_pred_gb)\n",
        "report_gb = classification_report(y_test, y_pred_gb)\n",
        "\n",
        "print(f'Accuracy (Gradient Boosting): {accuracy_gb}')\n",
        "print('Classification Report (Gradient Boosting):')\n",
        "print(report_gb)\n"
      ],
      "metadata": {
        "colab": {
          "base_uri": "https://localhost:8080/"
        },
        "id": "Nu69rSb4Mtu7",
        "outputId": "b1f4373e-0476-4a5e-f3d2-dffb83620fa2"
      },
      "execution_count": 11,
      "outputs": [
        {
          "output_type": "stream",
          "name": "stdout",
          "text": [
            "Accuracy (Gradient Boosting): 0.6772133333333333\n",
            "Classification Report (Gradient Boosting):\n",
            "              precision    recall  f1-score   support\n",
            "\n",
            "           0       0.79      0.49      0.60     37483\n",
            "           4       0.63      0.87      0.73     37517\n",
            "\n",
            "    accuracy                           0.68     75000\n",
            "   macro avg       0.71      0.68      0.66     75000\n",
            "weighted avg       0.71      0.68      0.67     75000\n",
            "\n"
          ]
        }
      ]
    },
    {
      "cell_type": "markdown",
      "source": [
        "### Training Machine Learning Models Using the TF-IDF Method"
      ],
      "metadata": {
        "id": "6-mOiLgeEseg"
      }
    },
    {
      "cell_type": "markdown",
      "source": [
        "####1. Applying the TF-IDF Method"
      ],
      "metadata": {
        "id": "zZheoLwXuREj"
      }
    },
    {
      "cell_type": "code",
      "source": [
        "from sklearn.feature_extraction.text import TfidfVectorizer\n",
        "\n",
        "# Convert text data to TF-IDF features\n",
        "tfidf_vectorizer = TfidfVectorizer(stop_words='english')\n",
        "X_tfidf = tfidf_vectorizer.fit_transform(df['Cleaned_Text'])\n",
        "y = df['Target']\n",
        "\n",
        "# Remap target classes: 0 to 0 and 4 to 1\n",
        "y = np.where(y == 4, 1, 0)\n",
        "\n",
        "# Split data into training and testing sets\n",
        "X_train_tfidf, X_test_tfidf, y_train, y_test = train_test_split(X_tfidf, y, test_size=0.3, random_state=42)\n"
      ],
      "metadata": {
        "id": "BQ5SY4BjjxIu"
      },
      "execution_count": 12,
      "outputs": []
    },
    {
      "cell_type": "markdown",
      "source": [
        "####2. Model Training and Evaluation"
      ],
      "metadata": {
        "id": "tXGnV2sWuUQc"
      }
    },
    {
      "cell_type": "markdown",
      "source": [
        "\n",
        "\n",
        "*  Gradient Boosting (XGBoost) Implementation\n"
      ],
      "metadata": {
        "id": "S8v_vIHEFGbv"
      }
    },
    {
      "cell_type": "code",
      "source": [
        "import xgboost as xgb\n",
        "from xgboost import XGBClassifier\n",
        "\n",
        "# Initialize XGBoost Classifier\n",
        "xgb_model = XGBClassifier(n_estimators=300, learning_rate=0.2, max_depth=4, colsample_bytree=0.9, subsample=0.9, random_state=42)\n",
        "\n",
        "# Train the model\n",
        "xgb_model.fit(X_train_tfidf, y_train)\n",
        "\n",
        "# Model Evaluation\n",
        "y_pred_xgb = xgb_model.predict(X_test_tfidf)\n",
        "accuracy_xgb = accuracy_score(y_test, y_pred_xgb)\n",
        "report_xgb = classification_report(y_test, y_pred_xgb)\n",
        "\n",
        "print(f'Accuracy (XGBoost): {accuracy_xgb}')\n",
        "print('Classification Report (XGBoost):')\n",
        "print(report_xgb)"
      ],
      "metadata": {
        "id": "bwwE_7LrE_kP",
        "colab": {
          "base_uri": "https://localhost:8080/"
        },
        "outputId": "2b84581e-4f06-4099-9f4d-f7e161d1d4b3"
      },
      "execution_count": 14,
      "outputs": [
        {
          "output_type": "stream",
          "name": "stdout",
          "text": [
            "Accuracy (XGBoost): 0.7348266666666666\n",
            "Classification Report (XGBoost):\n",
            "              precision    recall  f1-score   support\n",
            "\n",
            "           0       0.79      0.64      0.71     37483\n",
            "           1       0.70      0.83      0.76     37517\n",
            "\n",
            "    accuracy                           0.73     75000\n",
            "   macro avg       0.74      0.73      0.73     75000\n",
            "weighted avg       0.74      0.73      0.73     75000\n",
            "\n"
          ]
        }
      ]
    },
    {
      "cell_type": "markdown",
      "source": [
        "\n",
        "\n",
        "*   Random Forest Classifier Implementation\n",
        "\n"
      ],
      "metadata": {
        "id": "ssPz5Sg4X7I0"
      }
    },
    {
      "cell_type": "code",
      "source": [
        "# 1. Training Random Forest Model\n",
        "from sklearn.ensemble import RandomForestClassifier\n",
        "\n",
        "# Initialize Random Forest Classifier\n",
        "rf_model = RandomForestClassifier(n_estimators=100, random_state=42)  # 100 trees (adjust n_estimators)\n",
        "\n",
        "# Train the model\n",
        "rf_model.fit(X_train_tfidf, y_train)\n",
        "\n",
        "# 2. Model Evaluation\n",
        "y_pred_rf = rf_model.predict(X_test_tfidf)\n",
        "accuracy_rf = accuracy_score(y_test, y_pred_rf)\n",
        "report_rf = classification_report(y_test, y_pred_rf)\n",
        "\n",
        "print(f'Accuracy (Random Forest): {accuracy_rf}')\n",
        "print('Classification Report (Random Forest):')\n",
        "print(report_rf)\n"
      ],
      "metadata": {
        "id": "XUgJ_ioBX7Xj",
        "colab": {
          "base_uri": "https://localhost:8080/"
        },
        "outputId": "4a42654e-243f-4c6f-fd91-2b37d73e7457"
      },
      "execution_count": 15,
      "outputs": [
        {
          "output_type": "stream",
          "name": "stdout",
          "text": [
            "Accuracy (Random Forest): 0.74912\n",
            "Classification Report (Random Forest):\n",
            "              precision    recall  f1-score   support\n",
            "\n",
            "           0       0.75      0.75      0.75     37483\n",
            "           1       0.75      0.74      0.75     37517\n",
            "\n",
            "    accuracy                           0.75     75000\n",
            "   macro avg       0.75      0.75      0.75     75000\n",
            "weighted avg       0.75      0.75      0.75     75000\n",
            "\n"
          ]
        }
      ]
    },
    {
      "cell_type": "markdown",
      "source": [
        "\n",
        "\n",
        "*   Support Vector Machine (SVM) Implementation\n",
        "\n"
      ],
      "metadata": {
        "id": "Uld28hBpXCiP"
      }
    },
    {
      "cell_type": "code",
      "source": [
        "from sklearn.svm import SVC\n",
        "\n",
        "# 2. Training SVM Model\n",
        "svm_model = SVC(kernel='linear', C=1)  # Linear kernel, C=1 (tune this)\n",
        "svm_model.fit(X_train_tfidf, y_train)\n",
        "\n",
        "# 3. Model Evaluation\n",
        "y_pred_svm = svm_model.predict(X_test_tfidf)\n",
        "accuracy_svm = accuracy_score(y_test, y_pred_svm)\n",
        "report_svm = classification_report(y_test, y_pred_svm)\n",
        "\n",
        "print(f'Accuracy (SVM): {accuracy_svm}')\n",
        "print('Classification Report (SVM):')\n",
        "print(report_svm)\n"
      ],
      "metadata": {
        "id": "DhVxT6tl2YSC",
        "colab": {
          "base_uri": "https://localhost:8080/"
        },
        "outputId": "f5742052-7ba1-4cac-c974-80d9b5818e12"
      },
      "execution_count": 17,
      "outputs": [
        {
          "output_type": "stream",
          "name": "stdout",
          "text": [
            "Accuracy (SVM): 0.7595733333333333\n",
            "Classification Report (SVM):\n",
            "              precision    recall  f1-score   support\n",
            "\n",
            "           0       0.78      0.73      0.75     37483\n",
            "           1       0.75      0.79      0.77     37517\n",
            "\n",
            "    accuracy                           0.76     75000\n",
            "   macro avg       0.76      0.76      0.76     75000\n",
            "weighted avg       0.76      0.76      0.76     75000\n",
            "\n"
          ]
        }
      ]
    },
    {
      "cell_type": "markdown",
      "source": [
        "##Project Report"
      ],
      "metadata": {
        "id": "sKPttC-A1Xsx"
      }
    },
    {
      "cell_type": "markdown",
      "source": [
        "###1. Dataset Overview"
      ],
      "metadata": {
        "id": "zNYMgf791cJX"
      }
    },
    {
      "cell_type": "markdown",
      "source": [
        "\n",
        "\n",
        "*   Source: Sentiment140 dataset\n",
        "*   Description: The dataset contains 1.6 million tweets with sentiment labels (0 for negative, 4 for positive).\n",
        "\n"
      ],
      "metadata": {
        "id": "Xr89QpjN1cT-"
      }
    },
    {
      "cell_type": "markdown",
      "source": [
        "###2. Data Preprocessing"
      ],
      "metadata": {
        "id": "WJkjkcyc1cW9"
      }
    },
    {
      "cell_type": "markdown",
      "source": [
        "####2.1 Data Loading and Inspection\n",
        "\n",
        "\n",
        "*   Downloaded and unzipped the dataset.\n",
        "*   Renamed columns and dropped irrelevant ones.\n",
        "\n",
        "\n",
        "\n"
      ],
      "metadata": {
        "id": "DZHHsLCr1cZs"
      }
    },
    {
      "cell_type": "markdown",
      "source": [
        "####2.2 Text Cleaning:\n",
        "\n",
        "\n",
        "*   Removed mentions, URLs, and special characters.\n",
        "*   Lowercased text, expanded contractions.\n",
        "*   Tokenized and lemmatized text, removed stopwords.\n",
        "\n",
        "\n",
        "\n",
        "\n"
      ],
      "metadata": {
        "id": "Xko1GuzD2FOZ"
      }
    },
    {
      "cell_type": "markdown",
      "source": [
        "###3. Feature Extraction\n",
        "\n",
        "\n",
        "\n"
      ],
      "metadata": {
        "id": "0q-MfDJ_2NaN"
      }
    },
    {
      "cell_type": "markdown",
      "source": [
        "3.1   Bag-of-Words (BoW) Method:\n",
        "\n",
        "\n",
        "*   Used CountVectorizer to convert text data into BoW features.\n",
        "\n"
      ],
      "metadata": {
        "id": "1h9XEAI82Z3h"
      }
    },
    {
      "cell_type": "markdown",
      "source": [
        "3.2  TF-IDF Method:\n",
        "\n",
        "*   Applied TfidfVectorizer to convert text data into TF-IDF features.\n",
        "\n"
      ],
      "metadata": {
        "id": "ytkW2rWY2ejJ"
      }
    },
    {
      "cell_type": "markdown",
      "source": [
        "###4. Model Training and Evaluation"
      ],
      "metadata": {
        "id": "J3qX5r_C2wx-"
      }
    },
    {
      "cell_type": "markdown",
      "source": [
        "We evaluated the performance of different machine learning models using both the Bag-of-Words (BoW) and TF-IDF features. The evaluation metrics considered include Accuracy, Precision, Recall, and F1-Score."
      ],
      "metadata": {
        "id": "Bpso5PiznIhr"
      }
    },
    {
      "cell_type": "markdown",
      "source": [
        "####4.1 Bag-of-Words Models\n",
        "\n",
        "\n",
        "\n",
        "\n",
        "\n",
        "\n",
        "\n",
        "\n",
        "\n",
        "\n",
        "\n"
      ],
      "metadata": {
        "id": "FbualuFP20pO"
      }
    },
    {
      "cell_type": "markdown",
      "source": [
        "*   Logistic Regression:\n",
        "\n",
        "  *   Accuracy: 76.13%\n",
        "  *   Precision: 0.74 (Negative), 0.78 (Positive)\n",
        "\n",
        "  *   Recall: 0.80 (Negative), 0.72 (Positive)\n",
        "  *   F1-Score: 0.77 (Negative), 0.75 (Positive)\n",
        "  *   Analysis: This model performed well with a balanced precision and recall, indicating good performance in both identifying positive and negative sentiments."
      ],
      "metadata": {
        "id": "sau9ZO8MnyeI"
      }
    },
    {
      "cell_type": "markdown",
      "source": [
        "*   Random Forest Classifier:\n",
        "\n",
        "  *   Accuracy: 74.33%\n",
        "  *   Precision: 0.75 (Negative), 0.73 (Positive)\n",
        "\n",
        "  *   Recall: 0.72 (Negative), 0.76 (Positive)\n",
        "  *   F1-Score: 0.74 (Negative), 0.74 (Positive)\n",
        "  *   Analysis: The model showed a balanced performance but slightly lower than Logistic Regression, indicating some room for improvement in distinguishing between the two classes."
      ],
      "metadata": {
        "id": "MrKl9UxSnzgt"
      }
    },
    {
      "cell_type": "markdown",
      "source": [
        "*   Gradient Boosting Classifier:\n",
        "\n",
        "  *   Accuracy: 67.72%\n",
        "  *   Precision: 0.63 (Negative), 0.79 (Positive)\n",
        "\n",
        "  *   Recall: 0.87 (Negative), 0.49 (Positive)\n",
        "  *   F1-Score: 0.73 (Negative), 0.60 (Positive)\n",
        "  *   Analysis: The model had high recall for the positive class but suffered from lower precision, indicating it is better at identifying positives but misclassifies more negatives."
      ],
      "metadata": {
        "id": "yr6fczqAoDk5"
      }
    },
    {
      "cell_type": "markdown",
      "source": [
        "####4.2 TF-IDF Models"
      ],
      "metadata": {
        "id": "GZKIGWJHofPX"
      }
    },
    {
      "cell_type": "markdown",
      "source": [
        "*   XGBoost Classifier::\n",
        "\n",
        "  *   Accuracy: 73.48%\n",
        "  *   Precision: 0.70 (Negative), 0.79 (Positive)\n",
        "\n",
        "  *   Recall: 0.83 (Negative), 0.64 (Positive)\n",
        "  *   F1-Score: 0.76 (Negative), 0.71 (Positive)\n",
        "  *   Analysis: This model performed well, with high recall for the negative class and good overall precision, making it suitable for applications prioritizing minimizing false negatives."
      ],
      "metadata": {
        "id": "LeUFpJpeonCI"
      }
    },
    {
      "cell_type": "markdown",
      "source": [
        "*   Random Forest Classifier:\n",
        "\n",
        "  *   Accuracy: 74.91%\n",
        "  *   Precision: 0.75 (Negative), 0.75 (Positive)\n",
        "\n",
        "  *   Recall: 0.75 (Negative), 0.74 (Positive)\n",
        "  *   F1-Score: 0.75 (Negative), 0.75 (Positive)\n",
        "  *   Analysis: The TF-IDF-based Random Forest model performed similarly to the BoW version, with slightly better balance between precision and recall."
      ],
      "metadata": {
        "id": "ncyaEMS5o1az"
      }
    },
    {
      "cell_type": "markdown",
      "source": [
        "*   Support Vector Machine (SVM):\n",
        "\n",
        "  *   Accuracy: 75.96%\n",
        "  *   Precision: 0.75 (Negative), 0.78 (Positive)\n",
        "\n",
        "  *   Recall: 0.79 (Negative), 0.73 (Positive)\n",
        "  *   F1-Score: 0.77 (Negative), 0.75 (Positive)\n",
        "  *   Analysis: The SVM model achieved a good balance between precision and recall, showing its robustness for sentiment classification tasks."
      ],
      "metadata": {
        "id": "CaL6KieopET5"
      }
    },
    {
      "cell_type": "markdown",
      "source": [
        "###5. Conclusion\n"
      ],
      "metadata": {
        "id": "WTawx697pSUm"
      }
    },
    {
      "cell_type": "markdown",
      "source": [
        "The sentiment analysis project demonstrated that various machine learning models can effectively classify Twitter sentiments. The SVM and Logistic Regression models showed the best performance, with accuracy around 76%. Both models achieved a good balance between precision and recall, making them suitable for most sentiment analysis applications."
      ],
      "metadata": {
        "id": "C5Ds1Z_zpWqW"
      }
    }
  ]
}